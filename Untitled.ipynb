{
 "cells": [
  {
   "cell_type": "code",
   "execution_count": 12,
   "id": "31f0a618",
   "metadata": {},
   "outputs": [],
   "source": [
    "import re"
   ]
  },
  {
   "cell_type": "code",
   "execution_count": 24,
   "id": "8e23f1e9",
   "metadata": {},
   "outputs": [],
   "source": [
    "my_sentence = \"There are some grey trees outside. 6667839. 12345.2456.\""
   ]
  },
  {
   "cell_type": "code",
   "execution_count": 22,
   "id": "bc689a96",
   "metadata": {},
   "outputs": [],
   "source": [
    "hits = re.search(\"\\d+\", my_sentence)"
   ]
  },
  {
   "cell_type": "code",
   "execution_count": 23,
   "id": "8e7b96b1",
   "metadata": {},
   "outputs": [
    {
     "data": {
      "text/plain": [
       "'6667839'"
      ]
     },
     "execution_count": 23,
     "metadata": {},
     "output_type": "execute_result"
    }
   ],
   "source": [
    "hits[0]"
   ]
  },
  {
   "cell_type": "code",
   "execution_count": 25,
   "id": "46e999c9",
   "metadata": {},
   "outputs": [],
   "source": [
    "hits = re.findall(\"\\d+\", my_sentence)"
   ]
  },
  {
   "cell_type": "code",
   "execution_count": 26,
   "id": "b8f99812",
   "metadata": {},
   "outputs": [
    {
     "data": {
      "text/plain": [
       "['6667839', '12345', '2456']"
      ]
     },
     "execution_count": 26,
     "metadata": {},
     "output_type": "execute_result"
    }
   ],
   "source": [
    "hits"
   ]
  }
 ],
 "metadata": {
  "kernelspec": {
   "display_name": "Python 3 (ipykernel)",
   "language": "python",
   "name": "python3"
  },
  "language_info": {
   "codemirror_mode": {
    "name": "ipython",
    "version": 3
   },
   "file_extension": ".py",
   "mimetype": "text/x-python",
   "name": "python",
   "nbconvert_exporter": "python",
   "pygments_lexer": "ipython3",
   "version": "3.9.13"
  }
 },
 "nbformat": 4,
 "nbformat_minor": 5
}
